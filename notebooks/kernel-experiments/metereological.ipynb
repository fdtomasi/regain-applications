{
 "cells": [
  {
   "cell_type": "markdown",
   "metadata": {},
   "source": [
    "# Wishart Process for Metereological Data"
   ]
  },
  {
   "cell_type": "code",
   "execution_count": null,
   "metadata": {},
   "outputs": [],
   "source": [
    "import numpy as np\n",
    "import pandas as pd\n",
    "\n",
    "import plotly.offline as py\n",
    "import plotly.graph_objs as go\n",
    "from datetime import datetime\n",
    "\n",
    "from regain.bayesian import wishart_process_"
   ]
  },
  {
   "cell_type": "code",
   "execution_count": null,
   "metadata": {},
   "outputs": [],
   "source": [
    "# load data\n",
    "df = pd.read_csv(\"../../regain/data/metereological.csv\").replace(\"M\", np.NaN) # .fillna(0)"
   ]
  },
  {
   "cell_type": "code",
   "execution_count": null,
   "metadata": {},
   "outputs": [],
   "source": [
    "df[\"temp\"] = (df[\"MAX AT C\"].values.astype(float) + df[\"MIN AT C\"].values.astype(float)) / 2.\n",
    "\n",
    "df['year_month'] = df.DATE.str.split(\"/\").apply(lambda x: \"/\".join(x[:-1]))\n",
    "\n",
    "df_temp = df[df.temp.notna()].fillna(0).copy()\n",
    "df_temp['SNOW cm'] = df_temp['SNOW cm'].values.astype(float)\n",
    "df_temp['RAIN cm'] = df_temp['RAIN cm'].values.astype(float)\n",
    "df_temp[\"precipitation\"] = df_temp['SNOW cm'] + df_temp[\"RAIN cm\"]\n",
    "\n",
    "idx_ok = [k for k, v in df_temp.groupby(\"year_month\").groups.items() if len(v) > 2]\n",
    "\n",
    "df_filt = df_temp[df_temp.year_month.isin(idx_ok)]\n",
    "\n",
    "X = df_filt[[\"temp\", \"precipitation\"]]\n",
    "y = df_filt.year_month\n",
    "y = [i.days for i in pd.to_timedelta(pd.to_datetime(y))]\n",
    "\n",
    "xaxis = pd.to_datetime(df_filt.year_month)\n",
    "\n",
    "wp = wishart_process_.WishartProcess(n_iter=500, verbose=True, learn_ell=False)\n",
    "wp.fit(X, y)"
   ]
  },
  {
   "cell_type": "code",
   "execution_count": null,
   "metadata": {},
   "outputs": [],
   "source": [
    "py.init_notebook_mode(connected=True)\n",
    "py.iplot([go.Scatter(y=wp.covariance_[:, 0,1], x=xaxis, mode='markers+lines')])"
   ]
  }
 ],
 "metadata": {
  "kernelspec": {
   "display_name": "Python 3",
   "language": "python",
   "name": "python3"
  },
  "language_info": {
   "codemirror_mode": {
    "name": "ipython",
    "version": 3
   },
   "file_extension": ".py",
   "mimetype": "text/x-python",
   "name": "python",
   "nbconvert_exporter": "python",
   "pygments_lexer": "ipython3",
   "version": "3.7.3"
  },
  "varInspector": {
   "cols": {
    "lenName": 16,
    "lenType": 16,
    "lenVar": 40
   },
   "kernels_config": {
    "python": {
     "delete_cmd_postfix": "",
     "delete_cmd_prefix": "del ",
     "library": "var_list.py",
     "varRefreshCmd": "print(var_dic_list())"
    },
    "r": {
     "delete_cmd_postfix": ") ",
     "delete_cmd_prefix": "rm(",
     "library": "var_list.r",
     "varRefreshCmd": "cat(var_dic_list()) "
    }
   },
   "types_to_exclude": [
    "module",
    "function",
    "builtin_function_or_method",
    "instance",
    "_Feature"
   ],
   "window_display": false
  }
 },
 "nbformat": 4,
 "nbformat_minor": 4
}
