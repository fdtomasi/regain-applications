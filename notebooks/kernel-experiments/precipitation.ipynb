{
 "cells": [
  {
   "cell_type": "markdown",
   "metadata": {},
   "source": [
    "# Precipitation data"
   ]
  },
  {
   "cell_type": "code",
   "execution_count": null,
   "metadata": {},
   "outputs": [],
   "source": [
    "%matplotlib inline\n",
    "import os\n",
    "import numpy as np\n",
    "import scipy.sparse\n",
    "import pandas as pd\n",
    "import matplotlib\n",
    "import matplotlib.pyplot as plt\n",
    "\n",
    "from itertools import combinations\n",
    "from scipy import linalg\n",
    "from scipy.io import loadmat\n",
    "from sklearn.datasets import make_sparse_spd_matrix\n",
    "from sklearn.model_selection import GridSearchCV, ShuffleSplit\n",
    "from sklearn.utils.extmath import squared_norm\n",
    "from sklearn.covariance import empirical_covariance\n",
    "\n",
    "import plotly.offline as py\n",
    "import plotly.graph_objs as go\n",
    "py.init_notebook_mode()\n",
    "import plotly.io as pio\n",
    "\n",
    "from regain.utils import error_norm"
   ]
  },
  {
   "cell_type": "code",
   "execution_count": null,
   "metadata": {},
   "outputs": [],
   "source": [
    "df_sensor = pd.read_csv(\"../../regain/data/Sensor_readings__with_temperature__light__humidity_every_5_minutes_at_8_locations__trial__2014_to_2015_.csv\")\n",
    "df_sensor = df_sensor[df_sensor['location'] == 'Docklands Library']\n",
    "\n",
    "data_sensor = df_sensor.set_index(\"timestamp\")[['temp_avg', 'light_avg', 'humidity_avg']]\n",
    "datetime_index = pd.to_datetime(data_sensor.index)\n",
    "datetime_index_hours = datetime_index.to_period('H')\n",
    "\n",
    "data_sensor.index = datetime_index_hours\n",
    "data_sensor = data_sensor[(data_sensor.index > \"2014-12-15\") & (data_sensor.index < \"2015-01-02\")]\n",
    "\n",
    "y = data_sensor.index.to_timestamp() # data_sensor.index\n",
    "X = data_sensor.values"
   ]
  },
  {
   "cell_type": "code",
   "execution_count": null,
   "metadata": {},
   "outputs": [],
   "source": [
    "names_col = [x[0].capitalize() for x in data_sensor.columns.str.split('_')]\n",
    "names_col = [(x if x != 'Humidity' else 'Hum') for x in names_col]\n",
    "\n",
    "layout = {\n",
    "        'xaxis': {\n",
    "#         'tickformat': \"%b '%y\",\n",
    "        'range' : [\"2014-12-15\", \"2015-01-02\"],\n",
    "#         'tickmode': 'linear', \n",
    "#         'dtick': 86400000.0 * 100\n",
    "    },\n",
    "    'yaxis' : dict(\n",
    "        autorange=True,\n",
    "        title=\"Sensor readings\"\n",
    "    ),\n",
    "    'width':1000,\n",
    "    'height':500,\n",
    "    'margin': {\n",
    "    'l': 60,\n",
    "    'r': 10,\n",
    "#     'b': 5,\n",
    "    't': 10,\n",
    "    'pad': 0\n",
    "  },\n",
    "    'legend': dict(x=0, y=1.05, orientation=\"h\")\n",
    "}\n",
    "fig = dict(data=[go.Scatter(\n",
    "    x=y, y=data_sensor[c], name=names_col[i]) for i, c in enumerate(data_sensor.columns)],\n",
    "           layout=layout)\n",
    "py.iplot(fig)"
   ]
  },
  {
   "cell_type": "code",
   "execution_count": null,
   "metadata": {},
   "outputs": [],
   "source": [
    "# from plotly import tools\n",
    "# fig = tools.make_subplots(rows=3, cols=1, specs=[[{}], [{}], [{}]],\n",
    "#                           shared_xaxes=True, shared_yaxes=True,\n",
    "#                           vertical_spacing=0.001)\n",
    "# for i, c in enumerate(data_sensor.columns) :\n",
    "#     fig.append_trace(go.Scatter(x=y, y=data_sensor[c], name=names_col[i]), i+1, 1)\n",
    "\n",
    "# layout['showlegend'] = False\n",
    "# fig['layout'].update(**layout)\n",
    "# fig['layout']['yaxis'].update(title=names_col[0])\n",
    "# fig['layout']['yaxis2'].update(title=names_col[1])\n",
    "# fig['layout']['yaxis3'].update(title=names_col[2])\n",
    "# py.iplot(fig, filename='stacked-subplots-shared-xaxes')\n",
    "\n",
    "# pio.write_image(fig, \"precipitation_time_series.pdf\")"
   ]
  },
  {
   "cell_type": "code",
   "execution_count": null,
   "metadata": {
    "scrolled": true
   },
   "outputs": [],
   "source": [
    "yy = y[0] - y\n",
    "labels = (yy / np.timedelta64(1, 'h')).values\n",
    "\n",
    "from regain.covariance import kernel_latent_time_graphical_lasso_\n",
    "from sklearn.gaussian_process import kernels\n",
    "kltgl = kernel_latent_time_graphical_lasso_.KernelLatentTimeGraphicalLasso(\n",
    "#     alpha=0.1, tau=0.05,\n",
    "    alpha=1, tau=1,\n",
    "    kernel_phi=kernels.ExpSineSquared, ker_phi_param=24,\n",
    "    kernel_psi=kernels.ExpSineSquared, ker_psi_param=24,\n",
    "    verbose=2,\n",
    "    max_iter=100).fit(X, labels)"
   ]
  },
  {
   "cell_type": "code",
   "execution_count": null,
   "metadata": {},
   "outputs": [],
   "source": [
    "from regain.utils import save_pickle, load_pickle\n",
    "\n",
    "# save_pickle(kltgl, \"kltgl_precipitation.pkl\")\n",
    "# save_pickle(kltgl, \"kltgl_real_alpha0.2_tau0.2.pkl\")\n",
    "kltgl = load_pickle(\"kltgl_precipitation.pkl\")"
   ]
  },
  {
   "cell_type": "code",
   "execution_count": null,
   "metadata": {},
   "outputs": [],
   "source": [
    "import plotly.io as pio\n",
    "pio.orca.config.use_xvfb = True\n",
    "pio.orca.config.save()"
   ]
  },
  {
   "cell_type": "code",
   "execution_count": null,
   "metadata": {},
   "outputs": [],
   "source": [
    "import matplotlib as mpl\n",
    "cmap = [x['color'] for x in list(mpl.rcParams['axes.prop_cycle'])[:3]]\n",
    "\n",
    "data = [go.Scatter(x=sorted(y.unique()),\n",
    "                   y=kltgl.precision_[:,c[0],c[1]],\n",
    "                   name=\"%s-%s\" % (names_col[c[0]], names_col[c[1]]),\n",
    "    line=dict(color=cmap[(int(c[0]) + int(c[1]))-1]),\n",
    "    showlegend=True)\n",
    "        for c in combinations(range(len(data_sensor.columns)), 2)]\n",
    "\n",
    "layout = dict(\n",
    "    height=350,\n",
    "    showlegend=True,\n",
    "    paper_bgcolor='rgba(0,0,0,0)',\n",
    "    plot_bgcolor='rgba(0,0,0,0)',\n",
    "    xaxis=dict(\n",
    "        showgrid=True,\n",
    "        range=[\"2014-12-29\", \"2015-01-01\"],\n",
    "        nticks=20\n",
    "    ),\n",
    "    yaxis=dict(showgrid=True, title='Inverse Covariance'),\n",
    "    margin= dict(\n",
    "    l=60,\n",
    "    r=10,\n",
    "    b=0,\n",
    "    t=10,\n",
    "    pad=4)\n",
    ")\n",
    "\n",
    "fig = dict(data=data, layout=layout)\n",
    "py.iplot(fig)"
   ]
  },
  {
   "cell_type": "code",
   "execution_count": null,
   "metadata": {},
   "outputs": [],
   "source": [
    "pio.write_image(fig, \"precipitation_precision.pdf\")"
   ]
  },
  {
   "cell_type": "code",
   "execution_count": null,
   "metadata": {},
   "outputs": [],
   "source": [
    "fig = tools.make_subplots(rows=3, cols=1, specs=[[{}], [{}], [{}]],\n",
    "                          shared_xaxes=True,shared_yaxes=True, vertical_spacing=0.001)\n",
    "\n",
    "data = [go.Scatter(\n",
    "    x=sorted(y.unique()),\n",
    "    y=np.array([linalg.pinvh(x) for x in kltgl.precision_ - kltgl.latent_])[:,c[0],c[1]],\n",
    "    name=\"%s-%s\" % (names_col[c[0]], names_col[c[1]]),\n",
    "    line=dict(color=cmap[(int(c[0]) + int(c[1]))-1]),\n",
    "    showlegend=True)\n",
    "        for c in combinations(range(len(data_sensor.columns)), 2)]\n",
    "for i, d in enumerate(data):\n",
    "    fig.append_trace(d, 1, 1)\n",
    "    \n",
    "data = [go.Scatter(x=sorted(y.unique()),\n",
    "                   y=kltgl.precision_[:,c[0],c[1]],\n",
    "                   name=\"%s-%s\" % (names_col[c[0]], names_col[c[1]]),\n",
    "    line=dict(color=cmap[(int(c[0]) + int(c[1]))-1]),\n",
    "    showlegend=False)\n",
    "        for c in combinations(range(len(data_sensor.columns)), 2)]\n",
    "for i, d in enumerate(data):\n",
    "    fig.append_trace(d, 2, 1)\n",
    "    \n",
    "data = [go.Scatter(x=sorted(y.unique()),\n",
    "                   y=kltgl.latent_[:,c[0],c[1]],\n",
    "                   name=\"%s-%s\" % (names_col[c[0]], names_col[c[1]]),\n",
    "    line=dict(color=cmap[(int(c[0]) + int(c[1]))-1]),\n",
    "    showlegend=False)\n",
    "        for c in combinations(range(len(data_sensor.columns)), 2)]\n",
    "for i, d in enumerate(data):\n",
    "    fig.append_trace(d, 3, 1)\n",
    "\n",
    "layout['showlegend'] = True\n",
    "fig['layout'].update(**layout)\n",
    "fig['layout'].update(height=1500)\n",
    "fig['layout']['yaxis'].update(title='Covariance')\n",
    "fig['layout']['yaxis2'].update(title='Precision')#,range=[-0.099,0.15])\n",
    "fig['layout']['yaxis3'].update(title='Latent contribution')#,range=[-0.1,0.075])\n",
    "\n",
    "layout['legend']['y'] = .99\n",
    "# fig = dict(data=data, layout=layout)\n",
    "py.iplot(fig)\n",
    "\n",
    "# pio.write_image(fig, \"real_all_good.pdf\")\n",
    "\n",
    "# data = [go.Scatter(x=sorted(y.unique()),\n",
    "#                    y=kltgl.latent_[:,c[0],c[1]],\n",
    "#                    name=\"%s-%s\" % (names_col[c[0]], names_col[c[1]]))\n",
    "#         for c in combinations(range(len(data_sensor.columns)), 2)]\n",
    "# layout['yaxis'][\"title\"] = \"Latent contribution\"\n",
    "# layout['legend']['y'] = 1.0\n",
    "# fig = dict(data=data, layout=layout)\n",
    "# py.iplot(fig)\n",
    "\n",
    "# pio.write_image(fig, \"real_latent.pdf\")"
   ]
  }
 ],
 "metadata": {
  "kernelspec": {
   "display_name": "Python 3",
   "language": "python",
   "name": "python3"
  },
  "language_info": {
   "codemirror_mode": {
    "name": "ipython",
    "version": 3
   },
   "file_extension": ".py",
   "mimetype": "text/x-python",
   "name": "python",
   "nbconvert_exporter": "python",
   "pygments_lexer": "ipython3",
   "version": "3.7.3"
  }
 },
 "nbformat": 4,
 "nbformat_minor": 4
}
