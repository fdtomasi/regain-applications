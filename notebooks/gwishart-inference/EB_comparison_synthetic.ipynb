{
 "cells": [
  {
   "cell_type": "markdown",
   "metadata": {},
   "source": [
    "# Comparison with Empirical Bayes\n",
    "\n",
    "Data are available here: https://github.com/Tchanders/network_inference_tutorials"
   ]
  },
  {
   "cell_type": "code",
   "execution_count": 1,
   "metadata": {},
   "outputs": [],
   "source": [
    "%matplotlib inline\n",
    "import seaborn as sns; sns.set(color_codes=True)\n",
    "import pandas as pd\n",
    "import numpy as np\n",
    "import os\n",
    "import matplotlib.pyplot as plt\n",
    "\n",
    "from scipy.spatial.distance import squareform\n",
    "\n",
    "from regain.covariance import graph_lasso_\n",
    "from regain.covariance import latent_graph_lasso_; reload(latent_graph_lasso_);\n",
    "from regain import utils"
   ]
  },
  {
   "cell_type": "code",
   "execution_count": 2,
   "metadata": {},
   "outputs": [],
   "source": [
    "from sklearn.metrics import average_precision_score\n",
    "from __future__ import division\n",
    "def structure_error(true, pred, thresholding=False, eps=1e-2, no_diagonal=False, top_n=None):\n",
    "    # avoid inplace modifications\n",
    "    true = true.copy()\n",
    "    pred = pred.copy()\n",
    "\n",
    "    y_true = squareform(true, checks=None)\n",
    "    y_pred = squareform(pred, checks=None)\n",
    "\n",
    "    average_precision = average_precision_score(y_true > 0, y_pred)\n",
    "\n",
    "    if thresholding:\n",
    "        pred[np.abs(pred) < eps] = 0\n",
    "    tn_to_remove = 0\n",
    "    \n",
    "    if top_n is not None:\n",
    "        m = np.min(sorted(np.abs(y_pred))[::-1][:int(y_pred.size * top_n)])\n",
    "        pred[np.abs(pred) < m] = 0\n",
    "    \n",
    "    if no_diagonal:\n",
    "        if true.ndim > 2:\n",
    "            true = np.array([t - np.diag(np.diag(t)) for t in true])\n",
    "            pred = np.array([t - np.diag(np.diag(t)) for t in pred])\n",
    "            tn_to_remove = np.prod(true.shape[:2])\n",
    "        else:\n",
    "            true -= np.diag(np.diag(true))\n",
    "            pred -= np.diag(np.diag(pred))\n",
    "            tn_to_remove = true.shape[0]\n",
    "    true[true != 0] = 1\n",
    "    pred[pred != 0] = 2\n",
    "    res = true + pred\n",
    "\n",
    "    TN = np.count_nonzero((res == 0).astype(float))- tn_to_remove\n",
    "    FN = np.count_nonzero((res == 1).astype(float))\n",
    "    FP = np.count_nonzero((res == 2).astype(float))\n",
    "    TP = np.count_nonzero((res == 3).astype(float))\n",
    "\n",
    "    precision = TP / (TP + FP) if TP + FP > 0 else 0\n",
    "    recall = TP / (TP + FN)\n",
    "    miss_rate = FN / (TP + FN) or 1 - recall\n",
    "    f1 = 2 * precision * recall / (precision + recall) \\\n",
    "        if precision + recall > 0 else 0\n",
    "\n",
    "    accuracy = (TP + TN) / true.size\n",
    "    prevalence = (TP + FN) / true.size\n",
    "\n",
    "    fall_out = FP / (FP + TN) if (FP + TN) > 0 else 1\n",
    "    specificity = TN / (FP + TN) if (FP + TN) > 0 else 1. - fall_out\n",
    "\n",
    "    balanced_accuracy = 0.5 * (recall + specificity)\n",
    "    false_discovery_rate = FP / (TP + FP) if TP + FP > 0 else 1 - precision\n",
    "    false_omission_rate = FN / (FN + TN) if FN + TN > 0 else 0\n",
    "    negative_predicted_value = TN / (FN + TN) if FN + TN > 0 else \\\n",
    "        1 - false_omission_rate\n",
    "\n",
    "    positive_likelihood_ratio = recall / fall_out if fall_out > 0 else 0\n",
    "    negative_likelihood_ratio = miss_rate / specificity \\\n",
    "        if specificity > 0 else 0\n",
    "    diagnostic_odds_ratio = \\\n",
    "        positive_likelihood_ratio / negative_likelihood_ratio if \\\n",
    "        negative_likelihood_ratio > 0 else 0\n",
    "\n",
    "    dictionary = dict(\n",
    "        tp=TP, tn=TN, fp=FP, fn=FN, precision=precision, recall=recall,\n",
    "        f1=f1, accuracy=accuracy, false_omission_rate=false_omission_rate,\n",
    "        fdr=false_discovery_rate, npv=negative_predicted_value,\n",
    "        prevalence=prevalence, miss_rate=miss_rate, fall_out=fall_out,\n",
    "        specificity=specificity, plr=positive_likelihood_ratio,\n",
    "        nlr=negative_likelihood_ratio, dor=diagnostic_odds_ratio,\n",
    "        balanced_accuracy=balanced_accuracy,\n",
    "        average_precision=average_precision)\n",
    "    return dictionary"
   ]
  },
  {
   "cell_type": "markdown",
   "metadata": {},
   "source": [
    "Compare the results with Julia library"
   ]
  },
  {
   "cell_type": "code",
   "execution_count": 3,
   "metadata": {},
   "outputs": [],
   "source": [
    "from itertools import product\n",
    "\n",
    "# n_genes = 50\n",
    "# i = 3\n",
    "# algorithm = 'mi'\n",
    "# df = pd.read_csv(\"../simulated_datasets/{}_yeast{}_large.txt\".format(n_genes, i), delimiter='\\t', index_col=0).T"
   ]
  },
  {
   "cell_type": "code",
   "execution_count": 69,
   "metadata": {},
   "outputs": [],
   "source": [
    "score = 'precision'\n",
    "# score = 'average_precision'"
   ]
  },
  {
   "cell_type": "markdown",
   "metadata": {},
   "source": [
    "To replicate the analysis of the Empirical Bayes authors, we load in memory the true and inferred synthetic networks (with 50 and 100 genes, 3 replicates). Then, we plot the precision score achieved by the network inferred with both MI and PUC algorithms, taking the first highest edges according to four thresholds."
   ]
  },
  {
   "cell_type": "code",
   "execution_count": 70,
   "metadata": {
    "scrolled": true
   },
   "outputs": [],
   "source": [
    "results = {}\n",
    "reload(utils)\n",
    "path = \"/home/fede/src/network_inference_tutorials\"\n",
    "for n_genes, i in product([50, 100], range(1,4)):\n",
    "    true_network = utils.read_network(os.path.join(path, \"goldstandards/{}_yeast{}.tsv\".format(n_genes, i)))\n",
    "    \n",
    "    for algorithm, threshold in product(['mi','puc'], [0.2, 0.15, 0.1, 0.05]):\n",
    "        df = utils.read_network(os.path.join(path, \"networks/{}_yeast{}_large_{}.txt\".format(n_genes, i, algorithm)),\n",
    "                          threshold=threshold, delimiter='\\t')\n",
    "        results.setdefault(threshold, []).append(structure_error(true_network.values, df.values,\n",
    "                                                                 no_diagonal=False)[score])"
   ]
  },
  {
   "cell_type": "code",
   "execution_count": 71,
   "metadata": {},
   "outputs": [
    {
     "data": {
      "text/plain": [
       "<matplotlib.axes._subplots.AxesSubplot at 0x7f38f456bbd0>"
      ]
     },
     "execution_count": 71,
     "metadata": {},
     "output_type": "execute_result"
    },
    {
     "data": {
      "image/png": "[encoded data removed]",
      "text/plain": [
       "<Figure size 432x288 with 1 Axes>"
      ]
     },
     "metadata": {},
     "output_type": "display_data"
    }
   ],
   "source": [
    "nn = pd.DataFrame(columns=['threshold', score])\n",
    "for k, v in results.items():\n",
    "    for x in v:\n",
    "        nn = nn.append({'threshold': k, score:x}, ignore_index=True)\n",
    "\n",
    "bb = nn.copy()\n",
    "\n",
    "bb = bb.sort_values('threshold', ascending=False)\n",
    "sns.boxplot(x='threshold', y=score, data=bb, order=bb.threshold.unique())"
   ]
  },
  {
   "cell_type": "code",
   "execution_count": 72,
   "metadata": {},
   "outputs": [],
   "source": [
    "results_gl = {}\n",
    "path = \"/home/fede/src/network_inference_tutorials\"\n",
    "\n",
    "for n_genes, i in product([50, 100], range(1,4)):\n",
    "    true_network = utils.read_network(os.path.join(path, \"goldstandards/{}_yeast{}.tsv\".format(n_genes, i)))\n",
    "    filename = \"simulated_datasets/{}_yeast{}_large.txt\".format(n_genes, i) \n",
    "    df = pd.read_csv(os.path.join(path, filename), delimiter='\\t', index_col=0).T \n",
    "    \n",
    "    alphas = [1e-3] if n_genes == 50 else [0.001]\n",
    "    for alpha in alphas:\n",
    "        for threshold in [0.2, 0.15, 0.1, 0.05]:\n",
    "            gl = graph_lasso_.GraphLasso(verbose=0, alpha=alpha,update_rho_options=dict(mu=5), tol=1e-6, rtol=1e-6,\n",
    "                                                       max_iter=500).fit(df.values)\n",
    "            results_gl.setdefault(threshold, []).append(structure_error(true_network.values, gl.precision_,\n",
    "                                                                thresholding=True, eps=1e-4, top_n=threshold,\n",
    "                                                                 no_diagonal=False)[score])"
   ]
  },
  {
   "cell_type": "code",
   "execution_count": 73,
   "metadata": {},
   "outputs": [],
   "source": [
    "nn = pd.DataFrame(columns=['threshold', score])\n",
    "for k, v in results_gl.items():\n",
    "    for x in v:\n",
    "        nn = nn.append({'threshold': k, score:x}, ignore_index=True)\n",
    "\n",
    "dd = nn.copy()\n",
    "# bb['precision'] *= 2\n",
    "\n",
    "dd = dd.sort_values('threshold', ascending=False)"
   ]
  },
  {
   "cell_type": "code",
   "execution_count": 74,
   "metadata": {
    "scrolled": true
   },
   "outputs": [],
   "source": [
    "from regain.bayesian import gwishart_inference; reload(gwishart_inference)\n",
    "results_gl_bayesian = {}\n",
    "\n",
    "for n_genes, i in product([50, 100], range(1,4)):\n",
    "    true_network = utils.read_network(\n",
    "        os.path.join(path, \"goldstandards/{}_yeast{}.tsv\".format(n_genes, i)))\n",
    "    filename = \"simulated_datasets/{}_yeast{}_large.txt\".format(n_genes, i) \n",
    "    df = pd.read_csv(os.path.join(path, filename), delimiter='\\t', index_col=0).T \n",
    "    \n",
    "    alphas = [1e-3] if n_genes == 50 else [0.001]\n",
    "    for alpha in alphas:\n",
    "        \n",
    "        gl = gwishart_inference.BayesianGraphLasso(\n",
    "                verbose=0, alpha=alpha, tol=1e-6, alphas=np.logspace(-5, -2, 25),\n",
    "                top_n=5,\n",
    "                max_iter=500).fit(df.values)\n",
    "            \n",
    "        for threshold in [0.2, 0.15, 0.1, 0.05]:\n",
    "            results_gl_bayesian.setdefault(threshold, []).append(\n",
    "                structure_error(true_network.values, gl.precision_,\n",
    "                                thresholding=True, eps=1e-4, top_n=threshold,\n",
    "                                no_diagonal=False)[score])"
   ]
  },
  {
   "cell_type": "code",
   "execution_count": 75,
   "metadata": {},
   "outputs": [],
   "source": [
    "nn = pd.DataFrame(columns=['threshold', score])\n",
    "for k, v in results_gl_bayesian.items():\n",
    "    for x in v:\n",
    "        nn = nn.append({'threshold': k, score:x}, ignore_index=True)\n",
    "\n",
    "ee = nn.copy()\n",
    "# bb['precision'] *= 2\n",
    "\n",
    "ee = ee.sort_values('threshold', ascending=False)"
   ]
  },
  {
   "cell_type": "code",
   "execution_count": 76,
   "metadata": {},
   "outputs": [
    {
     "name": "stdout",
     "output_type": "stream",
     "text": [
      "(0.001, 0.02, 0.3125)\n",
      "(0.001, 0.02, 0.33653846153846156)\n",
      "(0.001, 0.02, 0.4421768707482993)\n",
      "(0.001, 0.02, 0.6744186046511628)\n",
      "(0.001, 0.02, 0.31092436974789917)\n",
      "(0.001, 0.02, 0.3469879518072289)\n",
      "(0.001, 0.02, 0.46258503401360546)\n",
      "(0.001, 0.02, 0.686046511627907)\n",
      "(0.001, 0.02, 0.3450834879406308)\n",
      "(0.001, 0.02, 0.4230769230769231)\n",
      "(0.001, 0.02, 0.5460750853242321)\n",
      "(0.001, 0.02, 0.7093023255813954)\n",
      "(0.001, 0.02, 0.11826923076923077)\n",
      "(0.001, 0.02, 0.15025252525252525)\n",
      "(0.001, 0.02, 0.21284403669724772)\n",
      "(0.001, 0.02, 0.3838383838383838)\n",
      "(0.001, 0.02, 0.20961538461538462)\n",
      "(0.001, 0.02, 0.2537878787878788)\n",
      "(0.001, 0.02, 0.3287419651056015)\n",
      "(0.001, 0.02, 0.5497470489038786)\n",
      "(0.001, 0.02, 0.20961538461538462)\n",
      "(0.001, 0.02, 0.24257738471257106)\n",
      "(0.001, 0.02, 0.31955922865013775)\n",
      "(0.001, 0.02, 0.5185185185185185)\n"
     ]
    }
   ],
   "source": [
    "reload(latent_graph_lasso_)\n",
    "path = \"/home/fede/src/network_inference_tutorials\"\n",
    "results_regain = {}\n",
    "\n",
    "for n_genes, i in product([50, 100], range(1,4)):\n",
    "    true_network = utils.read_network(os.path.join(path, \"goldstandards/{}_yeast{}.tsv\".format(n_genes, i)))\n",
    "    filename = \"simulated_datasets/{}_yeast{}_large.txt\".format(n_genes, i)\n",
    "    alphas = [1e-3] if n_genes == 50 else [0.001]\n",
    "    taus = [2e-2] #if n_genes == 50 else [1e-3]\n",
    "    df = pd.read_csv(os.path.join(path, filename), delimiter='\\t', index_col=0).T    \n",
    "\n",
    "    for alpha, tau in product(alphas, taus):\n",
    "        lgl = latent_graph_lasso_.LatentGraphLasso(\n",
    "                verbose=0, alpha=alpha, tau=tau, update_rho_options=dict(mu=5), tol=1e-6, rtol=1e-6,\n",
    "                max_iter=600).fit(df.values)\n",
    "\n",
    "        for threshold in [0.2, 0.15, 0.1, 0.05]:\n",
    "            ss = structure_error(true_network.values, lgl.precision_ - lgl.latent_, \n",
    "                             thresholding=True, eps=1e-6, top_n=threshold,\n",
    "                             no_diagonal=False)[score]\n",
    "            results_regain.setdefault(threshold, []).append(ss)\n",
    "            print(alpha, tau, ss)"
   ]
  },
  {
   "cell_type": "code",
   "execution_count": 77,
   "metadata": {},
   "outputs": [],
   "source": [
    "nn = pd.DataFrame(columns=['threshold', score])\n",
    "for k, v in results_regain.items():\n",
    "    for x in v:\n",
    "        nn = nn.append({'threshold': k, score:x}, ignore_index=True)\n",
    "\n",
    "cc = nn.copy()\n",
    "# bb['precision'] *= 2\n",
    "\n",
    "cc = cc.sort_values('threshold', ascending=0)"
   ]
  },
  {
   "cell_type": "markdown",
   "metadata": {},
   "source": [
    "An advantage in taking into account latent variables is visible in the following."
   ]
  },
  {
   "cell_type": "code",
   "execution_count": 78,
   "metadata": {},
   "outputs": [
    {
     "data": {
      "image/png": "[encoded data removed]",
      "text/plain": [
       "<Figure size 720x576 with 4 Axes>"
      ]
     },
     "metadata": {},
     "output_type": "display_data"
    }
   ],
   "source": [
    "f, ax = plt.subplots(1, 4, sharey=True, figsize=(10,8))\n",
    "sns.boxplot(x='threshold', y=score, data=bb, order=bb.threshold.unique(), ax=ax[0])\n",
    "ax[0].set_title(\"EB\")\n",
    "sns.boxplot(x='threshold', y=score, data=dd, order=dd.threshold.unique(), ax=ax[1])\n",
    "ax[1].set_title(\"GL\")\n",
    "sns.boxplot(x='threshold', y=score, data=ee, order=ee.threshold.unique(), ax=ax[2])\n",
    "ax[2].set_title(\"BGL\")\n",
    "sns.boxplot(x='threshold', y=score, data=cc, order=cc.threshold.unique(), ax=ax[3])\n",
    "ax[3].set_title(\"LGL\")\n",
    "\n",
    "plt.ylim([0, 1]);\n",
    "f.tight_layout()"
   ]
  },
  {
   "cell_type": "code",
   "execution_count": null,
   "metadata": {},
   "outputs": [],
   "source": []
  }
 ],
 "metadata": {
  "kernelspec": {
   "display_name": "Python 3",
   "language": "python",
   "name": "python3"
  },
  "language_info": {
   "codemirror_mode": {
    "name": "ipython",
    "version": 3
   },
   "file_extension": ".py",
   "mimetype": "text/x-python",
   "name": "python",
   "nbconvert_exporter": "python",
   "pygments_lexer": "ipython3",
   "version": "3.7.3"
  }
 },
 "nbformat": 4,
 "nbformat_minor": 4
}
