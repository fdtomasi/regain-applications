{
 "cells": [
  {
   "cell_type": "markdown",
   "metadata": {},
   "source": [
    "# Infer network\n",
    "\n",
    "Infer a network and plot with gene labels.\n",
    "\n",
    "## More details\n",
    "Plot networks inferred from datasets simulated from realistic network structures. Several datasets are available, from different organisms, different numbers of genes in the networks and different numbers of cells in the dataset. To infer a network from a different dataset, make sure the data file is in the same format as the simulated datasets, and change `dataset_name` to the relevant path.\n",
    "\n",
    "For very large datasets (tens of thousands of cells, thousands of genes), network inference may take a long time. Benchmarking scripts are included to indicate how number of cells, number of genes and algorithm affect the time taken to infer a network.\n",
    "\n",
    "The network inference algorithms rank all edges, between every possible pair of genes. In order to progress from a ranked list to a network, a threshold must be set, indicating what percentage of the highest-ranked edges to include."
   ]
  },
  {
   "cell_type": "code",
   "execution_count": 1,
   "metadata": {},
   "outputs": [
    {
     "name": "stderr",
     "output_type": "stream",
     "text": [
      "\u001b[1m\u001b[36mINFO: \u001b[39m\u001b[22m\u001b[36mRecompiling stale cache file /home/fede/.julia/lib/v0.6/Discretizers.ji for module Discretizers.\n",
      "\u001b[39m\u001b[1m\u001b[36mINFO: \u001b[39m\u001b[22m\u001b[36mRecompiling stale cache file /home/fede/.julia/lib/v0.6/Distributions.ji for module Distributions.\n",
      "\u001b[39m\u001b[1m\u001b[36mINFO: \u001b[39m\u001b[22m\u001b[36mRecompiling stale cache file /home/fede/.julia/lib/v0.6/LightGraphs.ji for module LightGraphs.\n",
      "\u001b[39m\u001b[1m\u001b[36mINFO: \u001b[39m\u001b[22m\u001b[36mRecompiling stale cache file /home/fede/.julia/lib/v0.6/GraphPlot.ji for module GraphPlot.\n",
      "\u001b[39m"
     ]
    }
   ],
   "source": [
    "# Include packages\n",
    "\n",
    "using NetworkInference\n",
    "using LightGraphs\n",
    "using GraphPlot"
   ]
  },
  {
   "cell_type": "code",
   "execution_count": 5,
   "metadata": {},
   "outputs": [
    {
     "data": {
      "text/plain": [
       "\"../simulated_datasets/50_yeast1_small.txt\""
      ]
     },
     "execution_count": 5,
     "metadata": {},
     "output_type": "execute_result"
    }
   ],
   "source": [
    "# Customize the dataset, algorithm and percentage threshold (for plotting)\n",
    "\n",
    "# Use these options for datasets generated from GeneNetWeaver...\n",
    "# 50 or 100\n",
    "number_of_genes = 50\n",
    "# \"ecoli1\", \"ecoli2\", \"yeast1\", \"yeast2\" or \"yeast3\"\n",
    "organism = \"yeast1\"\n",
    "# \"large\", \"medium\", or \"small\"\n",
    "dataset_size = \"small\"\n",
    "\n",
    "# ...Or override dataset_name to point to your data file:\n",
    "dataset_name = string(\"../simulated_datasets/\", number_of_genes, \"_\", organism, \"_\", dataset_size, \".txt\")"
   ]
  },
  {
   "cell_type": "code",
   "execution_count": null,
   "metadata": {},
   "outputs": [],
   "source": [
    "dataset_name"
   ]
  },
  {
   "cell_type": "code",
   "execution_count": 2,
   "metadata": {},
   "outputs": [
    {
     "data": {
      "text/plain": [
       "0.15"
      ]
     },
     "execution_count": 2,
     "metadata": {},
     "output_type": "execute_result"
    }
   ],
   "source": [
    "# Choose an algorithm\n",
    "# PIDCNetworkInference(), PUCNetworkInference(), CLRNetworkInference() or MINetworkInference()\n",
    "algorithm = PIDCNetworkInference()\n",
    "\n",
    "# Keep the top x% highest-scoring edges\n",
    "# 0.0 < threshold < 1.0\n",
    "threshold = 0.15"
   ]
  },
  {
   "cell_type": "code",
   "execution_count": null,
   "metadata": {},
   "outputs": [],
   "source": [
    "dataset_name = string(\"/home/fede/src/network_inference_tutorials/cluster_4.tsv\")"
   ]
  },
  {
   "cell_type": "code",
   "execution_count": 6,
   "metadata": {},
   "outputs": [
    {
     "name": "stdout",
     "output_type": "stream",
     "text": [
      "  3.679625 seconds (2.52 M allocations: 165.882 MiB, 1.15% gc time)\n"
     ]
    }
   ],
   "source": [
    "# Get the genes and discretize the expression levels\n",
    "\n",
    "@time genes = get_nodes(dataset_name);\n",
    "\n",
    "# Troubleshooting: the default discretizer is \"bayesian_blocks\"\n",
    "# If this doesn't work, try the \"uniform_width\" discretizer:\n",
    "# @time genes = get_nodes(dataset_name, discretizer = \"uniform_width\");"
   ]
  },
  {
   "cell_type": "code",
   "execution_count": 11,
   "metadata": {},
   "outputs": [
    {
     "data": {
      "text/plain": [
       "50-element Array{NetworkInference.Node,1}:\n",
       " NetworkInference.Node(\"G1\", [2, 2, 3, 3, 3, 4, 2, 2, 3, 2  …  3, 3, 4, 2, 2, 2, 1, 3, 1, 2], 4, [0.135714, 0.607143, 0.235714, 0.0214286])                                   \n",
       " NetworkInference.Node(\"G2\", [3, 3, 3, 3, 3, 3, 3, 2, 2, 3  …  3, 2, 3, 2, 2, 4, 3, 2, 3, 4], 4, [0.0285714, 0.235714, 0.642857, 0.0928571])                                  \n",
       " NetworkInference.Node(\"G3\", [2, 3, 2, 2, 2, 1, 3, 2, 2, 2  …  2, 2, 2, 2, 2, 2, 2, 1, 1, 2], 3, [0.25, 0.657143, 0.0928571])                                                 \n",
       " NetworkInference.Node(\"G4\", [2, 2, 2, 2, 2, 2, 2, 2, 2, 2  …  2, 2, 3, 2, 3, 2, 2, 2, 2, 2], 3, [0.192857, 0.65, 0.157143])                                                  \n",
       " NetworkInference.Node(\"G5\", [2, 2, 2, 2, 3, 2, 2, 2, 2, 2  …  2, 2, 2, 2, 2, 2, 2, 1, 1, 2], 4, [0.164286, 0.757143, 0.05, 0.0285714])                                       \n",
       " NetworkInference.Node(\"G6\", [3, 2, 4, 3, 2, 1, 3, 2, 2, 3  …  1, 2, 2, 2, 3, 2, 1, 1, 1, 4], 4, [0.235714, 0.457143, 0.214286, 0.0928571])                                   \n",
       " NetworkInference.Node(\"G7\", [1, 1, 2, 1, 2, 1, 1, 1, 2, 1  …  1, 2, 1, 2, 1, 1, 2, 1, 2, 1], 4, [0.542857, 0.278571, 0.0785714, 0.1])                                        \n",
       " NetworkInference.Node(\"G8\", [6, 7, 6, 6, 6, 7, 6, 6, 6, 6  …  6, 6, 6, 7, 6, 6, 7, 5, 2, 6], 7, [0.0142857, 0.0214286, 0.0928571, 0.0571429, 0.0928571, 0.635714, 0.0857143])\n",
       " NetworkInference.Node(\"G9\", [1, 1, 1, 1, 1, 1, 1, 1, 1, 1  …  1, 2, 1, 1, 1, 1, 3, 1, 1, 1], 3, [0.892857, 0.0785714, 0.0285714])                                            \n",
       " NetworkInference.Node(\"G10\", [2, 2, 2, 2, 2, 2, 2, 2, 2, 2  …  1, 2, 1, 2, 1, 2, 2, 2, 2, 2], 3, [0.221429, 0.628571, 0.15])                                                 \n",
       " NetworkInference.Node(\"G11\", [3, 3, 3, 3, 3, 4, 4, 3, 3, 4  …  3, 2, 2, 3, 2, 3, 1, 3, 4, 3], 4, [0.0428571, 0.207143, 0.678571, 0.0714286])                                 \n",
       " NetworkInference.Node(\"G12\", [4, 5, 3, 3, 3, 3, 3, 3, 3, 3  …  4, 3, 3, 3, 4, 3, 3, 4, 5, 3], 5, [0.05, 0.114286, 0.471429, 0.285714, 0.0785714])                            \n",
       " NetworkInference.Node(\"G13\", [2, 2, 2, 2, 2, 2, 2, 3, 2, 2  …  2, 2, 2, 2, 2, 2, 3, 2, 2, 2], 3, [0.185714, 0.764286, 0.05])                                                 \n",
       " ⋮                                                                                                                                                                            \n",
       " NetworkInference.Node(\"G39\", [3, 3, 2, 3, 3, 3, 3, 3, 3, 3  …  3, 3, 1, 3, 2, 3, 4, 3, 1, 1], 4, [0.0214286, 0.128571, 0.764286, 0.0857143])                                 \n",
       " NetworkInference.Node(\"G40\", [4, 2, 3, 3, 2, 3, 3, 3, 3, 2  …  3, 3, 2, 2, 2, 3, 3, 2, 4, 1], 4, [0.114286, 0.392857, 0.442857, 0.05])                                       \n",
       " NetworkInference.Node(\"G41\", [2, 2, 2, 2, 2, 2, 3, 2, 3, 2  …  2, 2, 2, 2, 2, 2, 3, 3, 2, 1], 4, [0.0428571, 0.835714, 0.0857143, 0.0357143])                                \n",
       " NetworkInference.Node(\"G42\", [2, 2, 2, 2, 3, 3, 2, 3, 3, 2  …  2, 1, 1, 2, 2, 2, 1, 1, 2, 2], 3, [0.264286, 0.571429, 0.164286])                                             \n",
       " NetworkInference.Node(\"G43\", [6, 5, 5, 5, 6, 5, 5, 5, 5, 5  …  5, 5, 4, 2, 5, 5, 4, 5, 6, 5], 7, [0.0357143, 0.0785714, 0.0571429, 0.114286, 0.55, 0.15, 0.0142857])         \n",
       " NetworkInference.Node(\"G44\", [4, 4, 4, 4, 4, 3, 4, 3, 3, 3  …  4, 4, 3, 3, 3, 3, 5, 5, 2, 4], 5, [0.121429, 0.135714, 0.435714, 0.164286, 0.142857])                         \n",
       " NetworkInference.Node(\"G45\", [3, 3, 3, 3, 3, 3, 3, 3, 3, 4  …  2, 3, 3, 3, 3, 3, 2, 2, 3, 3], 4, [0.0785714, 0.0928571, 0.728571, 0.1])                                      \n",
       " NetworkInference.Node(\"G46\", [4, 3, 3, 3, 3, 4, 3, 3, 4, 3  …  3, 2, 5, 3, 3, 2, 3, 3, 3, 3], 5, [0.0142857, 0.0928571, 0.678571, 0.185714, 0.0285714])                      \n",
       " NetworkInference.Node(\"G47\", [2, 3, 2, 2, 2, 2, 2, 3, 3, 3  …  2, 2, 3, 2, 3, 3, 1, 2, 2, 2], 4, [0.221429, 0.485714, 0.192857, 0.1])                                        \n",
       " NetworkInference.Node(\"G48\", [2, 2, 2, 2, 2, 2, 3, 2, 2, 2  …  2, 2, 2, 2, 2, 2, 3, 1, 3, 1], 4, [0.107143, 0.742857, 0.128571, 0.0214286])                                  \n",
       " NetworkInference.Node(\"G49\", [1, 1, 1, 1, 1, 1, 1, 1, 1, 1  …  1, 1, 1, 1, 1, 1, 1, 1, 1, 2], 2, [0.95, 0.05])                                                               \n",
       " NetworkInference.Node(\"G50\", [3, 3, 3, 3, 3, 3, 3, 3, 4, 3  …  3, 3, 3, 2, 3, 3, 2, 5, 3, 3], 5, [0.107143, 0.192857, 0.578571, 0.107143, 0.0142857])                        "
      ]
     },
     "execution_count": 11,
     "metadata": {},
     "output_type": "execute_result"
    }
   ],
   "source": [
    "genes"
   ]
  },
  {
   "cell_type": "code",
   "execution_count": 4,
   "metadata": {
    "scrolled": true
   },
   "outputs": [
    {
     "name": "stdout",
     "output_type": "stream",
     "text": [
      "Gamma distribution failed for G1 and G28; used normal instead.\n",
      "Gamma distribution failed for G1 and G42; used normal instead.\n",
      "Gamma distribution failed for G2 and G28; used normal instead.\n",
      "Gamma distribution failed for G2 and G42; used normal instead.\n",
      "Gamma distribution failed for G3 and G28; used normal instead.\n",
      "Gamma distribution failed for G3 and G42; used normal instead.\n",
      "Gamma distribution failed for G4 and G28; used normal instead.\n",
      "Gamma distribution failed for G4 and G42; used normal instead.\n",
      "Gamma distribution failed for G5 and G28; used normal instead.\n",
      "Gamma distribution failed for G5 and G42; used normal instead.\n",
      "Gamma distribution failed for G6 and G28; used normal instead.\n",
      "Gamma distribution failed for G6 and G42; used normal instead.\n",
      "Gamma distribution failed for G7 and G28; used normal instead.\n",
      "Gamma distribution failed for G7 and G42; used normal instead.\n",
      "Gamma distribution failed for G8 and G28; used normal instead.\n",
      "Gamma distribution failed for G8 and G42; used normal instead.\n",
      "Gamma distribution failed for G9 and G28; used normal instead.\n",
      "Gamma distribution failed for G9 and G42; used normal instead.\n",
      "Gamma distribution failed for G10 and G28; used normal instead.\n",
      "Gamma distribution failed for G10 and G42; used normal instead.\n",
      "Gamma distribution failed for G11 and G28; used normal instead.\n",
      "Gamma distribution failed for G11 and G42; used normal instead.\n",
      "Gamma distribution failed for G12 and G28; used normal instead.\n",
      "Gamma distribution failed for G12 and G42; used normal instead.\n",
      "Gamma distribution failed for G13 and G28; used normal instead.\n",
      "Gamma distribution failed for G13 and G42; used normal instead.\n",
      "Gamma distribution failed for G14 and G28; used normal instead.\n",
      "Gamma distribution failed for G14 and G42; used normal instead.\n",
      "Gamma distribution failed for G15 and G28; used normal instead.\n",
      "Gamma distribution failed for G15 and G42; used normal instead.\n",
      "Gamma distribution failed for G16 and G28; used normal instead.\n",
      "Gamma distribution failed for G16 and G42; used normal instead.\n",
      "Gamma distribution failed for G17 and G28; used normal instead.\n",
      "Gamma distribution failed for G17 and G42; used normal instead.\n",
      "Gamma distribution failed for G18 and G28; used normal instead.\n",
      "Gamma distribution failed for G18 and G42; used normal instead.\n",
      "Gamma distribution failed for G19 and G28; used normal instead.\n",
      "Gamma distribution failed for G19 and G42; used normal instead.\n",
      "Gamma distribution failed for G20 and G28; used normal instead.\n",
      "Gamma distribution failed for G20 and G42; used normal instead.\n",
      "Gamma distribution failed for G21 and G28; used normal instead.\n",
      "Gamma distribution failed for G21 and G42; used normal instead.\n",
      "Gamma distribution failed for G22 and G28; used normal instead.\n",
      "Gamma distribution failed for G22 and G42; used normal instead.\n",
      "Gamma distribution failed for G23 and G28; used normal instead.\n",
      "Gamma distribution failed for G23 and G42; used normal instead.\n",
      "Gamma distribution failed for G24 and G28; used normal instead.\n",
      "Gamma distribution failed for G24 and G42; used normal instead.\n",
      "Gamma distribution failed for G25 and G28; used normal instead.\n",
      "Gamma distribution failed for G25 and G42; used normal instead.\n",
      "Gamma distribution failed for G26 and G28; used normal instead.\n",
      "Gamma distribution failed for G26 and G42; used normal instead.\n",
      "Gamma distribution failed for G27 and G28; used normal instead.\n",
      "Gamma distribution failed for G27 and G42; used normal instead.\n",
      "Gamma distribution failed for G28 and G29; used normal instead.\n",
      "Gamma distribution failed for G28 and G30; used normal instead.\n",
      "Gamma distribution failed for G28 and G31; used normal instead.\n",
      "Gamma distribution failed for G28 and G32; used normal instead.\n",
      "Gamma distribution failed for G28 and G33; used normal instead.\n",
      "Gamma distribution failed for G28 and G34; used normal instead.\n",
      "Gamma distribution failed for G28 and G35; used normal instead.\n",
      "Gamma distribution failed for G28 and G36; used normal instead.\n",
      "Gamma distribution failed for G28 and G37; used normal instead.\n",
      "Gamma distribution failed for G28 and G38; used normal instead.\n",
      "Gamma distribution failed for G28 and G39; used normal instead.\n",
      "Gamma distribution failed for G28 and G40; used normal instead.\n",
      "Gamma distribution failed for G28 and G41; used normal instead.\n",
      "Gamma distribution failed for G28 and G42; used normal instead.\n",
      "Gamma distribution failed for G28 and G43; used normal instead.\n",
      "Gamma distribution failed for G28 and G44; used normal instead.\n",
      "Gamma distribution failed for G28 and G45; used normal instead.\n",
      "Gamma distribution failed for G28 and G46; used normal instead.\n",
      "Gamma distribution failed for G28 and G47; used normal instead.\n",
      "Gamma distribution failed for G28 and G48; used normal instead.\n",
      "Gamma distribution failed for G28 and G49; used normal instead.\n",
      "Gamma distribution failed for G28 and G50; used normal instead.\n",
      "Gamma distribution failed for G29 and G42; used normal instead.\n",
      "Gamma distribution failed for G30 and G42; used normal instead.\n",
      "Gamma distribution failed for G31 and G42; used normal instead.\n",
      "Gamma distribution failed for G32 and G42; used normal instead.\n",
      "Gamma distribution failed for G33 and G42; used normal instead.\n",
      "Gamma distribution failed for G34 and G42; used normal instead.\n",
      "Gamma distribution failed for G35 and G42; used normal instead.\n",
      "Gamma distribution failed for G36 and G42; used normal instead.\n",
      "Gamma distribution failed for G37 and G42; used normal instead.\n",
      "Gamma distribution failed for G38 and G42; used normal instead.\n",
      "Gamma distribution failed for G39 and G42; used normal instead.\n",
      "Gamma distribution failed for G40 and G42; used normal instead.\n",
      "Gamma distribution failed for G41 and G42; used normal instead.\n",
      "Gamma distribution failed for G42 and G43; used normal instead.\n",
      "Gamma distribution failed for G42 and G44; used normal instead.\n",
      "Gamma distribution failed for G42 and G45; used normal instead.\n",
      "Gamma distribution failed for G42 and G46; used normal instead.\n",
      "Gamma distribution failed for G42 and G47; used normal instead.\n",
      "Gamma distribution failed for G42 and G48; used normal instead.\n",
      "Gamma distribution failed for G42 and G49; used normal instead.\n",
      "Gamma distribution failed for G42 and G50; used normal instead.\n",
      "  2.807439 seconds (2.57 M allocations: 130.674 MiB, 1.30% gc time)\n"
     ]
    }
   ],
   "source": [
    "# Infer the network\n",
    "\n",
    "@time network = InferredNetwork(algorithm, genes);"
   ]
  },
  {
   "cell_type": "code",
   "execution_count": 5,
   "metadata": {},
   "outputs": [],
   "source": [
    "write_network_file(\"network_julia_yeast1\", network)"
   ]
  },
  {
   "cell_type": "code",
   "execution_count": 2,
   "metadata": {
    "scrolled": true
   },
   "outputs": [
    {
     "data": {
      "text/plain": [
       "NetworkInference.InferredNetwork(NetworkInference.Node[NetworkInference.Node(\"G4\", Int64[], 0, Float64[]), NetworkInference.Node(\"G45\", Int64[], 0, Float64[]), NetworkInference.Node(\"G38\", Int64[], 0, Float64[]), NetworkInference.Node(\"G48\", Int64[], 0, Float64[]), NetworkInference.Node(\"G28\", Int64[], 0, Float64[]), NetworkInference.Node(\"G2\", Int64[], 0, Float64[]), NetworkInference.Node(\"G15\", Int64[], 0, Float64[]), NetworkInference.Node(\"G40\", Int64[], 0, Float64[]), NetworkInference.Node(\"G33\", Int64[], 0, Float64[]), NetworkInference.Node(\"G21\", Int64[], 0, Float64[])  …  NetworkInference.Node(\"G26\", Int64[], 0, Float64[]), NetworkInference.Node(\"G29\", Int64[], 0, Float64[]), NetworkInference.Node(\"G18\", Int64[], 0, Float64[]), NetworkInference.Node(\"G20\", Int64[], 0, Float64[]), NetworkInference.Node(\"G9\", Int64[], 0, Float64[]), NetworkInference.Node(\"G10\", Int64[], 0, Float64[]), NetworkInference.Node(\"G8\", Int64[], 0, Float64[]), NetworkInference.Node(\"G13\", Int64[], 0, Float64[]), NetworkInference.Node(\"G7\", Int64[], 0, Float64[]), NetworkInference.Node(\"G24\", Int64[], 0, Float64[])], NetworkInference.Edge[NetworkInference.Edge(NetworkInference.Node[NetworkInference.Node(\"G7\", Int64[], 0, Float64[]), NetworkInference.Node(\"G4\", Int64[], 0, Float64[])], 0.436189), NetworkInference.Edge(NetworkInference.Node[NetworkInference.Node(\"G12\", Int64[], 0, Float64[]), NetworkInference.Node(\"G7\", Int64[], 0, Float64[])], 0.40026), NetworkInference.Edge(NetworkInference.Node[NetworkInference.Node(\"G35\", Int64[], 0, Float64[]), NetworkInference.Node(\"G25\", Int64[], 0, Float64[])], 0.389772), NetworkInference.Edge(NetworkInference.Node[NetworkInference.Node(\"G10\", Int64[], 0, Float64[]), NetworkInference.Node(\"G9\", Int64[], 0, Float64[])], 0.356994), NetworkInference.Edge(NetworkInference.Node[NetworkInference.Node(\"G17\", Int64[], 0, Float64[]), NetworkInference.Node(\"G12\", Int64[], 0, Float64[])], 0.334624), NetworkInference.Edge(NetworkInference.Node[NetworkInference.Node(\"G17\", Int64[], 0, Float64[]), NetworkInference.Node(\"G14\", Int64[], 0, Float64[])], 0.320403), NetworkInference.Edge(NetworkInference.Node[NetworkInference.Node(\"G7\", Int64[], 0, Float64[]), NetworkInference.Node(\"G17\", Int64[], 0, Float64[])], 0.309313), NetworkInference.Edge(NetworkInference.Node[NetworkInference.Node(\"G31\", Int64[], 0, Float64[]), NetworkInference.Node(\"G35\", Int64[], 0, Float64[])], 0.306571), NetworkInference.Edge(NetworkInference.Node[NetworkInference.Node(\"G12\", Int64[], 0, Float64[]), NetworkInference.Node(\"G4\", Int64[], 0, Float64[])], 0.28291), NetworkInference.Edge(NetworkInference.Node[NetworkInference.Node(\"G14\", Int64[], 0, Float64[]), NetworkInference.Node(\"G12\", Int64[], 0, Float64[])], 0.273555)  …  NetworkInference.Edge(NetworkInference.Node[NetworkInference.Node(\"G2\", Int64[], 0, Float64[]), NetworkInference.Node(\"G49\", Int64[], 0, Float64[])], 0.0169184), NetworkInference.Edge(NetworkInference.Node[NetworkInference.Node(\"G30\", Int64[], 0, Float64[]), NetworkInference.Node(\"G29\", Int64[], 0, Float64[])], 0.0168667), NetworkInference.Edge(NetworkInference.Node[NetworkInference.Node(\"G33\", Int64[], 0, Float64[]), NetworkInference.Node(\"G29\", Int64[], 0, Float64[])], 0.0161986), NetworkInference.Edge(NetworkInference.Node[NetworkInference.Node(\"G22\", Int64[], 0, Float64[]), NetworkInference.Node(\"G19\", Int64[], 0, Float64[])], 0.015887), NetworkInference.Edge(NetworkInference.Node[NetworkInference.Node(\"G28\", Int64[], 0, Float64[]), NetworkInference.Node(\"G33\", Int64[], 0, Float64[])], 0.0153291), NetworkInference.Edge(NetworkInference.Node[NetworkInference.Node(\"G48\", Int64[], 0, Float64[]), NetworkInference.Node(\"G28\", Int64[], 0, Float64[])], 0.0150933), NetworkInference.Edge(NetworkInference.Node[NetworkInference.Node(\"G29\", Int64[], 0, Float64[]), NetworkInference.Node(\"G38\", Int64[], 0, Float64[])], 0.0147712), NetworkInference.Edge(NetworkInference.Node[NetworkInference.Node(\"G2\", Int64[], 0, Float64[]), NetworkInference.Node(\"G28\", Int64[], 0, Float64[])], 0.013956), NetworkInference.Edge(NetworkInference.Node[NetworkInference.Node(\"G33\", Int64[], 0, Float64[]), NetworkInference.Node(\"G30\", Int64[], 0, Float64[])], 0.0137156), NetworkInference.Edge(NetworkInference.Node[NetworkInference.Node(\"G2\", Int64[], 0, Float64[]), NetworkInference.Node(\"G29\", Int64[], 0, Float64[])], 0.0133055)])"
      ]
     },
     "execution_count": 2,
     "metadata": {},
     "output_type": "execute_result"
    },
    {
     "name": "stderr",
     "output_type": "stream",
     "text": [
      "WARNING: both LightGraphs and NetworkInference export \"Edge\"; uses of it in module Main must be qualified\n"
     ]
    }
   ],
   "source": [
    "read_network = read_network_file(\"../networks/50_yeast1_large_mi.txt\")"
   ]
  },
  {
   "cell_type": "code",
   "execution_count": 4,
   "metadata": {},
   "outputs": [
    {
     "data": {
      "text/plain": [
       "50-element Array{NetworkInference.Node,1}:\n",
       " NetworkInference.Node(\"G4\", Int64[], 0, Float64[]) \n",
       " NetworkInference.Node(\"G45\", Int64[], 0, Float64[])\n",
       " NetworkInference.Node(\"G38\", Int64[], 0, Float64[])\n",
       " NetworkInference.Node(\"G48\", Int64[], 0, Float64[])\n",
       " NetworkInference.Node(\"G28\", Int64[], 0, Float64[])\n",
       " NetworkInference.Node(\"G2\", Int64[], 0, Float64[]) \n",
       " NetworkInference.Node(\"G15\", Int64[], 0, Float64[])\n",
       " NetworkInference.Node(\"G40\", Int64[], 0, Float64[])\n",
       " NetworkInference.Node(\"G33\", Int64[], 0, Float64[])\n",
       " NetworkInference.Node(\"G21\", Int64[], 0, Float64[])\n",
       " NetworkInference.Node(\"G39\", Int64[], 0, Float64[])\n",
       " NetworkInference.Node(\"G14\", Int64[], 0, Float64[])\n",
       " NetworkInference.Node(\"G44\", Int64[], 0, Float64[])\n",
       " ⋮                                                  \n",
       " NetworkInference.Node(\"G23\", Int64[], 0, Float64[])\n",
       " NetworkInference.Node(\"G43\", Int64[], 0, Float64[])\n",
       " NetworkInference.Node(\"G26\", Int64[], 0, Float64[])\n",
       " NetworkInference.Node(\"G29\", Int64[], 0, Float64[])\n",
       " NetworkInference.Node(\"G18\", Int64[], 0, Float64[])\n",
       " NetworkInference.Node(\"G20\", Int64[], 0, Float64[])\n",
       " NetworkInference.Node(\"G9\", Int64[], 0, Float64[]) \n",
       " NetworkInference.Node(\"G10\", Int64[], 0, Float64[])\n",
       " NetworkInference.Node(\"G8\", Int64[], 0, Float64[]) \n",
       " NetworkInference.Node(\"G13\", Int64[], 0, Float64[])\n",
       " NetworkInference.Node(\"G7\", Int64[], 0, Float64[]) \n",
       " NetworkInference.Node(\"G24\", Int64[], 0, Float64[])"
      ]
     },
     "execution_count": 4,
     "metadata": {},
     "output_type": "execute_result"
    }
   ],
   "source": [
    "read_network.nodes"
   ]
  },
  {
   "cell_type": "code",
   "execution_count": 7,
   "metadata": {},
   "outputs": [
    {
     "data": {
      "text/plain": [
       "(Bool[false false … false true; false false … false false; … ; false false … false false; true false … false false], Dict(\"G4\"=>4,\"G45\"=>45,\"G38\"=>38,\"G48\"=>48,\"G28\"=>28,\"G2\"=>2,\"G15\"=>15,\"G40\"=>40,\"G33\"=>33,\"G21\"=>21…), Dict(2=>\"G2\",11=>\"G11\",39=>\"G39\",46=>\"G46\",25=>\"G25\",42=>\"G42\",29=>\"G29\",8=>\"G8\",20=>\"G20\",14=>\"G14\"…))"
      ]
     },
     "execution_count": 7,
     "metadata": {},
     "output_type": "execute_result"
    },
    {
     "name": "stderr",
     "output_type": "stream",
     "text": [
      "WARNING: both LightGraphs and NetworkInference export \"Edge\"; uses of it in module Main must be qualified\n"
     ]
    }
   ],
   "source": [
    "# Get the adjacency matrix, then make a LightGraphs.SimpleGraphs.SimpleGraph\n",
    "\n",
    "adjacency_matrix, labels_to_ids, ids_to_labels = get_adjacency_matrix(network, threshold)"
   ]
  },
  {
   "cell_type": "code",
   "execution_count": 17,
   "metadata": {},
   "outputs": [
    {
     "name": "stdout",
     "output_type": "stream",
     "text": [
      "search: \u001b[1mg\u001b[22m\u001b[1me\u001b[22m\u001b[1mt\u001b[22m\u001b[1m_\u001b[22m\u001b[1ma\u001b[22m\u001b[1md\u001b[22m\u001b[1mj\u001b[22m\u001b[1ma\u001b[22m\u001b[1mc\u001b[22m\u001b[1me\u001b[22m\u001b[1mn\u001b[22m\u001b[1mc\u001b[22m\u001b[1my\u001b[22m\u001b[1m_\u001b[22m\u001b[1mm\u001b[22m\u001b[1ma\u001b[22m\u001b[1mt\u001b[22m\u001b[1mr\u001b[22m\u001b[1mi\u001b[22m\u001b[1mx\u001b[22m\n",
      "\n"
     ]
    },
    {
     "data": {
      "text/markdown": [
       "```\n",
       "get_adjacency_matrix(inferred_network::InferredNetwork, threshold = 1.0; <keyword arguments>)\n",
       "```\n",
       "\n",
       "Gets an adjacency matrix given an InferredNetwork and a threshold.\n",
       "\n",
       "Arguments:\n",
       "\n",
       "  * `inferred_network`: network that was inferred\n",
       "  * `threshold=0.1`: threshold above which to keep edges in the network\n",
       "  * `absolute=false`: interpret threshold as an absolute confidence score\n",
       "\n",
       "If `absolute` is false, threshold will be interpreted as the percentage of edges to keep.\n"
      ],
      "text/plain": [
       "```\n",
       "get_adjacency_matrix(inferred_network::InferredNetwork, threshold = 1.0; <keyword arguments>)\n",
       "```\n",
       "\n",
       "Gets an adjacency matrix given an InferredNetwork and a threshold.\n",
       "\n",
       "Arguments:\n",
       "\n",
       "  * `inferred_network`: network that was inferred\n",
       "  * `threshold=0.1`: threshold above which to keep edges in the network\n",
       "  * `absolute=false`: interpret threshold as an absolute confidence score\n",
       "\n",
       "If `absolute` is false, threshold will be interpreted as the percentage of edges to keep.\n"
      ]
     },
     "execution_count": 17,
     "metadata": {},
     "output_type": "execute_result"
    }
   ],
   "source": [
    "? get_adjacency_matrix"
   ]
  },
  {
   "cell_type": "code",
   "execution_count": 11,
   "metadata": {},
   "outputs": [],
   "source": [
    "writedlm(\"test.txt\", adjacency_matrix)"
   ]
  },
  {
   "cell_type": "code",
   "execution_count": null,
   "metadata": {},
   "outputs": [],
   "source": [
    "graph = LightGraphs.SimpleGraphs.SimpleGraph(adjacency_matrix)"
   ]
  },
  {
   "cell_type": "code",
   "execution_count": null,
   "metadata": {},
   "outputs": [],
   "source": [
    "# Get the node labels, in order of index\n",
    "\n",
    "number_of_nodes = size(adjacency_matrix)[1]\n",
    "nodelabels = []\n",
    "for i in 1 : number_of_nodes\n",
    "    push!(nodelabels, ids_to_labels[i])\n",
    "end "
   ]
  },
  {
   "cell_type": "code",
   "execution_count": null,
   "metadata": {},
   "outputs": [],
   "source": [
    "# Plot the network at the given threshold\n",
    "\n",
    "display(gplot(graph, nodelabel = nodelabels))"
   ]
  },
  {
   "cell_type": "code",
   "execution_count": null,
   "metadata": {},
   "outputs": [],
   "source": []
  }
 ],
 "metadata": {
  "kernelspec": {
   "display_name": "Julia 0.6.3",
   "language": "julia",
   "name": "julia-0.6"
  },
  "language_info": {
   "file_extension": ".jl",
   "mimetype": "application/julia",
   "name": "julia",
   "version": "0.6.3"
  }
 },
 "nbformat": 4,
 "nbformat_minor": 2
}
